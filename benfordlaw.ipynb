{
 "cells": [
  {
   "cell_type": "markdown",
   "metadata": {},
   "source": [
    "# Benford's law"
   ]
  },
  {
   "cell_type": "markdown",
   "metadata": {},
   "source": [
    "Benford's law, also known as the law of the first number or the law of anomalous numbers, is the observation of the probability frequency of the last digits in data that appear in real life. Thus, in a data set obtained from the observation of a natural and real phenomenon, such as the population of the municipalities of a country, we find that the last digit of approximately 32% of the municipalities ends in 1. 18% ends in 2, while 12% ends in 3. This series continues as shown in the graph below. Amazing!"
   ]
  },
  {
   "cell_type": "code",
   "execution_count": 6,
   "metadata": {},
   "outputs": [
    {
     "data": {
      "text/html": [
       "<div>\n",
       "<style scoped>\n",
       "    .dataframe tbody tr th:only-of-type {\n",
       "        vertical-align: middle;\n",
       "    }\n",
       "\n",
       "    .dataframe tbody tr th {\n",
       "        vertical-align: top;\n",
       "    }\n",
       "\n",
       "    .dataframe thead th {\n",
       "        text-align: right;\n",
       "    }\n",
       "</style>\n",
       "<table border=\"1\" class=\"dataframe\">\n",
       "  <thead>\n",
       "    <tr style=\"text-align: right;\">\n",
       "      <th></th>\n",
       "      <th>PROVINCIA</th>\n",
       "      <th>MUNICIPIO</th>\n",
       "      <th>HABITANTES</th>\n",
       "    </tr>\n",
       "  </thead>\n",
       "  <tbody>\n",
       "    <tr>\n",
       "      <th>0</th>\n",
       "      <td>Álava</td>\n",
       "      <td>Amurrio</td>\n",
       "      <td>9632</td>\n",
       "    </tr>\n",
       "    <tr>\n",
       "      <th>1</th>\n",
       "      <td>Álava</td>\n",
       "      <td>Elciego</td>\n",
       "      <td>932</td>\n",
       "    </tr>\n",
       "    <tr>\n",
       "      <th>2</th>\n",
       "      <td>Álava</td>\n",
       "      <td>Lantarón</td>\n",
       "      <td>957</td>\n",
       "    </tr>\n",
       "    <tr>\n",
       "      <th>3</th>\n",
       "      <td>Álava</td>\n",
       "      <td>Arrazua-Ubarrundia</td>\n",
       "      <td>862</td>\n",
       "    </tr>\n",
       "    <tr>\n",
       "      <th>4</th>\n",
       "      <td>Álava</td>\n",
       "      <td>Lapuebla de Labarca</td>\n",
       "      <td>842</td>\n",
       "    </tr>\n",
       "  </tbody>\n",
       "</table>\n",
       "</div>"
      ],
      "text/plain": [
       "  PROVINCIA            MUNICIPIO  HABITANTES\n",
       "0     Álava              Amurrio        9632\n",
       "1     Álava              Elciego         932\n",
       "2     Álava             Lantarón         957\n",
       "3     Álava   Arrazua-Ubarrundia         862\n",
       "4     Álava  Lapuebla de Labarca         842"
      ]
     },
     "execution_count": 6,
     "metadata": {},
     "output_type": "execute_result"
    }
   ],
   "source": [
    "# packages\n",
    "import pandas as pd\n",
    "\n",
    "# load file\n",
    "df = pd.read_excel ('population_of_the_towns_in_Spain.xls')\n",
    "df.head()"
   ]
  },
  {
   "cell_type": "code",
   "execution_count": 32,
   "metadata": {},
   "outputs": [],
   "source": [
    "# we need the last figure of the population and insert it in a new column\n",
    "\n",
    "# package\n",
    "import math\n",
    "\n",
    "# define function\n",
    "def first_digit(num):\n",
    "    '''Function to extract n first digits of a number\n",
    "    first_n_digits(num)'''\n",
    "    if num < 10:\n",
    "        return num\n",
    "    return first_digit(num // 10)\n",
    "\n",
    "# run on our data and save in 'last_digit' column\n",
    "df['last_digit'] = [first_digit(n) for n in df['HABITANTES']]"
   ]
  },
  {
   "cell_type": "code",
   "execution_count": 33,
   "metadata": {},
   "outputs": [
    {
     "data": {
      "text/html": [
       "<div>\n",
       "<style scoped>\n",
       "    .dataframe tbody tr th:only-of-type {\n",
       "        vertical-align: middle;\n",
       "    }\n",
       "\n",
       "    .dataframe tbody tr th {\n",
       "        vertical-align: top;\n",
       "    }\n",
       "\n",
       "    .dataframe thead th {\n",
       "        text-align: right;\n",
       "    }\n",
       "</style>\n",
       "<table border=\"1\" class=\"dataframe\">\n",
       "  <thead>\n",
       "    <tr style=\"text-align: right;\">\n",
       "      <th></th>\n",
       "      <th>PROVINCIA</th>\n",
       "      <th>MUNICIPIO</th>\n",
       "      <th>HABITANTES</th>\n",
       "      <th>last_digit</th>\n",
       "    </tr>\n",
       "  </thead>\n",
       "  <tbody>\n",
       "    <tr>\n",
       "      <th>0</th>\n",
       "      <td>Álava</td>\n",
       "      <td>Amurrio</td>\n",
       "      <td>9632</td>\n",
       "      <td>9</td>\n",
       "    </tr>\n",
       "    <tr>\n",
       "      <th>1</th>\n",
       "      <td>Álava</td>\n",
       "      <td>Elciego</td>\n",
       "      <td>932</td>\n",
       "      <td>9</td>\n",
       "    </tr>\n",
       "    <tr>\n",
       "      <th>2</th>\n",
       "      <td>Álava</td>\n",
       "      <td>Lantarón</td>\n",
       "      <td>957</td>\n",
       "      <td>9</td>\n",
       "    </tr>\n",
       "    <tr>\n",
       "      <th>3</th>\n",
       "      <td>Álava</td>\n",
       "      <td>Arrazua-Ubarrundia</td>\n",
       "      <td>862</td>\n",
       "      <td>8</td>\n",
       "    </tr>\n",
       "    <tr>\n",
       "      <th>4</th>\n",
       "      <td>Álava</td>\n",
       "      <td>Lapuebla de Labarca</td>\n",
       "      <td>842</td>\n",
       "      <td>8</td>\n",
       "    </tr>\n",
       "  </tbody>\n",
       "</table>\n",
       "</div>"
      ],
      "text/plain": [
       "  PROVINCIA            MUNICIPIO  HABITANTES  last_digit\n",
       "0     Álava              Amurrio        9632           9\n",
       "1     Álava              Elciego         932           9\n",
       "2     Álava             Lantarón         957           9\n",
       "3     Álava   Arrazua-Ubarrundia         862           8\n",
       "4     Álava  Lapuebla de Labarca         842           8"
      ]
     },
     "execution_count": 33,
     "metadata": {},
     "output_type": "execute_result"
    }
   ],
   "source": [
    "df.head()"
   ]
  },
  {
   "cell_type": "code",
   "execution_count": 42,
   "metadata": {},
   "outputs": [
    {
     "data": {
      "image/png": "[encoded data removed]",
      "text/plain": [
       "<Figure size 700x490 with 1 Axes>"
      ]
     },
     "metadata": {},
     "output_type": "display_data"
    }
   ],
   "source": [
    "# package\n",
    "import matplotlib.pyplot as plt\n",
    "import seaborn as sns\n",
    "\n",
    "# plot\n",
    "plt.figure(figsize= (10, 7), dpi= 70)\n",
    "plt.hist(df['last_digit'], bins = 9)\n",
    "plt.title('Benfords law')\n",
    "plt.xlabel('First digit')\n",
    "plt.ylabel('Frequency')\n",
    "\n",
    "# show plot\n",
    "plt.show()\n"
   ]
  },
  {
   "cell_type": "code",
   "execution_count": null,
   "metadata": {},
   "outputs": [],
   "source": []
  }
 ],
 "metadata": {
  "kernelspec": {
   "display_name": "Python 3",
   "language": "python",
   "name": "python3"
  },
  "language_info": {
   "codemirror_mode": {
    "name": "ipython",
    "version": 3
   },
   "file_extension": ".py",
   "mimetype": "text/x-python",
   "name": "python",
   "nbconvert_exporter": "python",
   "pygments_lexer": "ipython3",
   "version": "3.8.3"
  }
 },
 "nbformat": 4,
 "nbformat_minor": 4
}
