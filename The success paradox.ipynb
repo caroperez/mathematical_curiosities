{
 "cells": [
  {
   "cell_type": "markdown",
   "metadata": {},
   "source": [
    "# The success paradox or self-centered bias **VS** lucky"
   ]
  },
  {
   "cell_type": "markdown",
   "metadata": {},
   "source": [
    "In a survey of research authors, they were asked what percentage of the research they had conducted themselves individually. Adding up those percentages, an average of 140% appears. People always think they do more work than they actually do. But if you ask them who makes more mistakes, we see the same result. Why? The success paradox or self-centered bias is a result of the fact that we remember our work more easily, not that of others.\n",
    "\n",
    "Now, what role does luck play? Would we be able to recognize luck as an important component of our success or do we only attribute it to our work, experience or talent?\n",
    "\n",
    "Emulating the scientific communicator Derek Muller of Veritasium (I recommend it), I will make a simulation of 1000 candidates for the position with skill and luck scores from 1 to 100, adding them up weighted at 95% for skill and 5% for luck.\n"
   ]
  },
  {
   "cell_type": "code",
   "execution_count": 1,
   "metadata": {},
   "outputs": [],
   "source": [
    "# package required\n",
    "import random\n",
    "import pandas as pd"
   ]
  },
  {
   "cell_type": "code",
   "execution_count": 7,
   "metadata": {},
   "outputs": [],
   "source": [
    "# function for create candidates and her/his scrores\n",
    "def randompoints(i, e, n):\n",
    "    '''Generates a dataframe with a number n of candidates with scores in ability and luck of i a e\n",
    "    randompoints(i, e, n)'''\n",
    "    skill_points, lucky_points = [], [] # create new lists\n",
    "    candidates = ['candidate' + str(x) for x in range(n)] # create a list of candidates\n",
    "    for j in range(0, n):\n",
    "        skill_points.append(random.randint(i, e)) # generate score of skill\n",
    "        lucky_points.append(random.randint(i, e)) # generate score of lucky\n",
    "    data = zip(skill_points, lucky_points) # gathers skill and luck scores into a single variable\n",
    "    return pd.DataFrame(data, index = candidates, columns =['skill', 'lucky']) # dataframe"
   ]
  },
  {
   "cell_type": "code",
   "execution_count": 16,
   "metadata": {},
   "outputs": [],
   "source": [
    "x = randompoints(1, 100, 1000) # 1000 candidates with random scores in skill and lucky\n",
    "\n",
    "x['total data'] = (x['skill']  * .95) + (x['lucky']  * .05) # weighted sum 95% 5%"
   ]
  },
  {
   "cell_type": "code",
   "execution_count": 17,
   "metadata": {},
   "outputs": [
    {
     "data": {
      "text/html": [
       "<div>\n",
       "<style scoped>\n",
       "    .dataframe tbody tr th:only-of-type {\n",
       "        vertical-align: middle;\n",
       "    }\n",
       "\n",
       "    .dataframe tbody tr th {\n",
       "        vertical-align: top;\n",
       "    }\n",
       "\n",
       "    .dataframe thead th {\n",
       "        text-align: right;\n",
       "    }\n",
       "</style>\n",
       "<table border=\"1\" class=\"dataframe\">\n",
       "  <thead>\n",
       "    <tr style=\"text-align: right;\">\n",
       "      <th></th>\n",
       "      <th>skill</th>\n",
       "      <th>lucky</th>\n",
       "      <th>total data</th>\n",
       "    </tr>\n",
       "  </thead>\n",
       "  <tbody>\n",
       "    <tr>\n",
       "      <th>candidate0</th>\n",
       "      <td>82</td>\n",
       "      <td>10</td>\n",
       "      <td>78.40</td>\n",
       "    </tr>\n",
       "    <tr>\n",
       "      <th>candidate1</th>\n",
       "      <td>50</td>\n",
       "      <td>94</td>\n",
       "      <td>52.20</td>\n",
       "    </tr>\n",
       "    <tr>\n",
       "      <th>candidate2</th>\n",
       "      <td>53</td>\n",
       "      <td>98</td>\n",
       "      <td>55.25</td>\n",
       "    </tr>\n",
       "    <tr>\n",
       "      <th>candidate3</th>\n",
       "      <td>81</td>\n",
       "      <td>11</td>\n",
       "      <td>77.50</td>\n",
       "    </tr>\n",
       "    <tr>\n",
       "      <th>candidate4</th>\n",
       "      <td>75</td>\n",
       "      <td>87</td>\n",
       "      <td>75.60</td>\n",
       "    </tr>\n",
       "    <tr>\n",
       "      <th>candidate5</th>\n",
       "      <td>37</td>\n",
       "      <td>41</td>\n",
       "      <td>37.20</td>\n",
       "    </tr>\n",
       "    <tr>\n",
       "      <th>candidate6</th>\n",
       "      <td>37</td>\n",
       "      <td>9</td>\n",
       "      <td>35.60</td>\n",
       "    </tr>\n",
       "    <tr>\n",
       "      <th>candidate7</th>\n",
       "      <td>88</td>\n",
       "      <td>87</td>\n",
       "      <td>87.95</td>\n",
       "    </tr>\n",
       "    <tr>\n",
       "      <th>candidate8</th>\n",
       "      <td>8</td>\n",
       "      <td>26</td>\n",
       "      <td>8.90</td>\n",
       "    </tr>\n",
       "    <tr>\n",
       "      <th>candidate9</th>\n",
       "      <td>96</td>\n",
       "      <td>37</td>\n",
       "      <td>93.05</td>\n",
       "    </tr>\n",
       "  </tbody>\n",
       "</table>\n",
       "</div>"
      ],
      "text/plain": [
       "            skill  lucky  total data\n",
       "candidate0     82     10       78.40\n",
       "candidate1     50     94       52.20\n",
       "candidate2     53     98       55.25\n",
       "candidate3     81     11       77.50\n",
       "candidate4     75     87       75.60\n",
       "candidate5     37     41       37.20\n",
       "candidate6     37      9       35.60\n",
       "candidate7     88     87       87.95\n",
       "candidate8      8     26        8.90\n",
       "candidate9     96     37       93.05"
      ]
     },
     "execution_count": 17,
     "metadata": {},
     "output_type": "execute_result"
    }
   ],
   "source": [
    "x.head(10) # firts 10 candidates of list"
   ]
  },
  {
   "cell_type": "markdown",
   "metadata": {},
   "source": [
    "Now that the simulation is done, let's see who are the 5 best candidates according to the total score and who are the 5 best candidates according to their skill.\n",
    "\n",
    "We will then look at the average luck score on the two results and compare them to see if luck matters or not."
   ]
  },
  {
   "cell_type": "markdown",
   "metadata": {},
   "source": [
    "## 10 best candidates according to skill and luck"
   ]
  },
  {
   "cell_type": "code",
   "execution_count": 20,
   "metadata": {},
   "outputs": [
    {
     "name": "stdout",
     "output_type": "stream",
     "text": [
      "77.73 % of lucky\n",
      "98.67 % of skill\n",
      "              skill  lucky  total data\n",
      "candidate11     100     86       99.30\n",
      "candidate86      99     97       98.90\n",
      "candidate694     99     96       98.85\n",
      "candidate952     99     95       98.80\n",
      "candidate897     99     84       98.25\n",
      "candidate182    100     60       98.00\n",
      "candidate538     98     98       98.00\n",
      "candidate77     100     52       97.60\n",
      "candidate138    100     44       97.20\n",
      "candidate879     97     96       96.95\n",
      "candidate617     98     74       96.80\n",
      "candidate632     97     93       96.80\n",
      "candidate555     97     87       96.50\n",
      "candidate271    100     25       96.25\n",
      "candidate689     97     79       96.10\n"
     ]
    }
   ],
   "source": [
    "total_score = x.sort_values('total data', axis = 0, ascending = False).head(15)\n",
    "\n",
    "print(round(total_score['lucky'].mean(), 2), '% of lucky')\n",
    "print(round(total_score['skill'].mean(), 2), '% of skill')\n",
    "print(total_score)"
   ]
  },
  {
   "cell_type": "markdown",
   "metadata": {},
   "source": [
    "## 10 best candidates according to skill"
   ]
  },
  {
   "cell_type": "code",
   "execution_count": 21,
   "metadata": {},
   "outputs": [
    {
     "name": "stdout",
     "output_type": "stream",
     "text": [
      "46.13 % of lucky\n",
      "99.47 % of skill\n",
      "              skill  lucky  total data\n",
      "candidate734    100     17       95.85\n",
      "candidate11     100     86       99.30\n",
      "candidate485    100      9       95.45\n",
      "candidate182    100     60       98.00\n",
      "candidate271    100     25       96.25\n",
      "candidate138    100     44       97.20\n",
      "candidate77     100     52       97.60\n",
      "candidate465     99     20       95.05\n",
      "candidate352     99     31       95.60\n",
      "candidate952     99     95       98.80\n",
      "candidate86      99     97       98.90\n",
      "candidate22      99     27       95.40\n",
      "candidate681     99      7       94.40\n",
      "candidate251     99     26       95.35\n",
      "candidate694     99     96       98.85\n"
     ]
    }
   ],
   "source": [
    "nolucky_score = x.sort_values('skill', axis = 0, ascending = False).head(15)\n",
    "\n",
    "print(round(nolucky_score['lucky'].mean(), 2), '% of lucky')\n",
    "print(round(nolucky_score['skill'].mean(), 2), '% of skill')\n",
    "print(nolucky_score)"
   ]
  },
  {
   "cell_type": "markdown",
   "metadata": {},
   "source": [
    "As we can see, the group of the 5 best candidates according to their skill, is out of the selection of the candidates with the best skill and luck score, despite the luck factor only means 5% of their score.\n",
    "\n",
    "From this, we can conclude that in very competitive positions, the luck factor is fundamental to be chosen, even though the chosen candidates think that it has been only their ability."
   ]
  },
  {
   "cell_type": "code",
   "execution_count": null,
   "metadata": {},
   "outputs": [],
   "source": []
  }
 ],
 "metadata": {
  "kernelspec": {
   "display_name": "Python 3",
   "language": "python",
   "name": "python3"
  },
  "language_info": {
   "codemirror_mode": {
    "name": "ipython",
    "version": 3
   },
   "file_extension": ".py",
   "mimetype": "text/x-python",
   "name": "python",
   "nbconvert_exporter": "python",
   "pygments_lexer": "ipython3",
   "version": "3.7.6"
  }
 },
 "nbformat": 4,
 "nbformat_minor": 4
}
